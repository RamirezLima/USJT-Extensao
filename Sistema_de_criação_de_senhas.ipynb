{
  "nbformat": 4,
  "nbformat_minor": 0,
  "metadata": {
    "colab": {
      "name": "Sistema de criação de senhas.ipynb",
      "provenance": [],
      "collapsed_sections": [],
      "authorship_tag": "ABX9TyOH1Gy+LvudwnfMHJgaM9To",
      "include_colab_link": true
    },
    "kernelspec": {
      "name": "python3",
      "display_name": "Python 3"
    },
    "language_info": {
      "name": "python"
    }
  },
  "cells": [
    {
      "cell_type": "markdown",
      "metadata": {
        "id": "view-in-github",
        "colab_type": "text"
      },
      "source": [
        "<a href=\"https://colab.research.google.com/github/RamirezLima/USJT-Extensao/blob/main/Sistema_de_cria%C3%A7%C3%A3o_de_senhas.ipynb\" target=\"_parent\"><img src=\"https://colab.research.google.com/assets/colab-badge.svg\" alt=\"Open In Colab\"/></a>"
      ]
    },
    {
      "cell_type": "markdown",
      "source": [
        "Sistema de criação de senhas seguras randômicas."
      ],
      "metadata": {
        "id": "WDHwyo7x_J3A"
      }
    },
    {
      "cell_type": "code",
      "source": [
        "#importa a biblioteca de geração randômica\n",
        "import random\n",
        "import string\n",
        "\n",
        "\n",
        "qteAlfabeto = int(input('Quantas letras você quer na sua senha?'))\n",
        "qteNumero = int(input('Quantos números você quer na sua senha?'))\n",
        "qteEspecial = int(input('Quantos caracteres especiais você quer na sua senha?'))\n",
        "ordem = int(input('Digite 1 para senha aleatória(RECOMENDADO) ou 2 para letra, número e caracteres especiais'))\n",
        "senha = []\n",
        "senhaFinal = ''\n",
        "\n",
        "\n",
        "#Pede ao Python uma Lista com o alfabeto ASCII\n",
        "alfabeto = list(string.ascii_letters)\n",
        "#Pede ao Python uma Lista com os números\n",
        "numeros = list(string.digits)\n",
        "#Cria uma lista com caracter especial\n",
        "especial = list(\"!@#$%^&*()\")\n",
        "\n",
        "\n",
        "#Baseado na quantidade de caracteres de cada tipo é accressentando no vetor senha\n",
        "for i in range(qteAlfabeto):\n",
        "  senha.append(random.choice(alfabeto))\n",
        "for i in range(qteNumero):\n",
        "  senha.append(random.choice(numeros))\n",
        "for i in range(qteEspecial):\n",
        "  senha.append(random.choice(especial))\n",
        "\n",
        "\n",
        "#Caso senha seja embaralhada é pedido ao Python que reorganize essa lista de forma aleatória, fonte: https://acervolima.com/funcao-random-shuffle-em-python/\n",
        "if ordem == 1:\n",
        "  random.shuffle(senha)\n",
        "# Caso 2 ele segue o padrão de atribuição da senha\n",
        "\n",
        "\n",
        "#como está em vetor mas já embaralhado, é pedido ao Python que coloque cada posição do Vetor em um concatenado de uma String\n",
        "for i in range((qteAlfabeto+qteEspecial+qteNumero)):\n",
        "  senhaFinal += senha[i]\n",
        "\n",
        "\n",
        "#Entrega ao usuário a senha final...\n",
        "print(r\"\"\"\\\n",
        "\n",
        "\n",
        "\n",
        "  ####    ######   ##  ##   ##  ##     ##       ##\n",
        " ##  ##   ##       ### ##   ##  ##    ####      ##\n",
        " ##       ##       ######   ##  ##   ##  ##     ##\n",
        "  ####    ####     ######   ######   ######     ##\n",
        "     ##   ##       ## ###   ##  ##   ##  ##\n",
        " ##  ##   ##       ##  ##   ##  ##   ##  ##\n",
        "  ####    ######   ##  ##   ##  ##   ##  ##     ##\n",
        "\n",
        "O Python gerou a seguinte senha para você: \"\"\", senhaFinal)\n",
        "\n",
        "#Para criação da Arte em ASCII foi usado o site: https://pt.rakko.tools/tools/68/\n",
        "\n",
        "\n",
        "\n",
        "#Ponto de Vista...\n",
        "#Hoje eu sou um dev Java e por natureza montei um algoritmo mental em Java e a ideia era simplesmente portar essa ideia pro python e manooooo kk essa abstração que o python oferece é ridícula no sentido de não precisar de quase nada pra funcionar, estou incrédulo com isso."
      ],
      "metadata": {
        "colab": {
          "base_uri": "https://localhost:8080/"
        },
        "id": "Hi98xRxBAbh6",
        "outputId": "59a0bfbe-5f34-4790-bad6-87b60e988844"
      },
      "execution_count": null,
      "outputs": [
        {
          "output_type": "stream",
          "name": "stdout",
          "text": [
            "Quantas letras você quer na sua senha?5\n",
            "Quantos números você quer na sua senha?5\n",
            "Quantos caracteres especiais você quer na sua senha?5\n",
            "Digite 1 para senha aleatória(RECOMENDADO) ou 2 para letra, número e caracteres especiais1\n",
            "\n",
            "\n",
            "\n",
            "  ####    ######   ##  ##   ##  ##     ##       ##\n",
            " ##  ##   ##       ### ##   ##  ##    ####      ##\n",
            " ##       ##       ######   ##  ##   ##  ##     ##\n",
            "  ####    ####     ######   ######   ######     ##\n",
            "     ##   ##       ## ###   ##  ##   ##  ##\n",
            " ##  ##   ##       ##  ##   ##  ##   ##  ##\n",
            "  ####    ######   ##  ##   ##  ##   ##  ##     ##\n",
            "\n",
            "O Python gerou a seguinte senha para você:  $9%^qL2s40e^8u%\n"
          ]
        }
      ]
    }
  ]
}